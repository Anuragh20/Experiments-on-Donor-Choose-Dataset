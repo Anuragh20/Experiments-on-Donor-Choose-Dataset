{
  "nbformat": 4,
  "nbformat_minor": 0,
  "metadata": {
    "colab": {
      "name": "Performance of NB (CountVec vs TFIDF) .ipynb",
      "provenance": [],
      "collapsed_sections": []
    },
    "language_info": {
      "codemirror_mode": {
        "name": "ipython",
        "version": 3
      },
      "file_extension": ".py",
      "mimetype": "text/x-python",
      "name": "python",
      "nbconvert_exporter": "python",
      "pygments_lexer": "ipython3",
      "version": "3.6.8"
    },
    "kernelspec": {
      "display_name": "Python 3",
      "language": "python",
      "name": "python3"
    }
  },
  "cells": [
    {
      "cell_type": "markdown",
      "metadata": {
        "id": "inzYCIaib3c3"
      },
      "source": [
        "<h1>Naive Bayes </h1>"
      ]
    },
    {
      "cell_type": "code",
      "metadata": {
        "id": "D9hHrO-Ut_Sn"
      },
      "source": [
        "#Importing the Requisite Libraries\n",
        "import pandas as pd\n",
        "import numpy as np\n",
        "from tqdm import tqdm\n",
        "import warnings\n",
        "warnings.filterwarnings(\"ignore\")\n",
        "import matplotlib as plt\n",
        "%matplotlib inline\n",
        "import seaborn as sns\n",
        "from sklearn.feature_extraction.text import TfidfVectorizer\n",
        "from sklearn.feature_extraction.text import CountVectorizer\n",
        "from sklearn.metrics import confusion_matrix\n",
        "from sklearn import metrics\n",
        "from sklearn.metrics import roc_curve, auc"
      ],
      "execution_count": null,
      "outputs": []
    },
    {
      "cell_type": "code",
      "metadata": {
        "colab": {
          "base_uri": "https://localhost:8080/"
        },
        "id": "7vJmFT6IxwIs",
        "outputId": "862ea940-1db9-4595-ba43-201a9d1e2af2"
      },
      "source": [
        "#Mounting the Drive on Google Colab\n",
        "from google.colab import drive\n",
        "drive.mount('/content/drive')"
      ],
      "execution_count": null,
      "outputs": [
        {
          "output_type": "stream",
          "text": [
            "Mounted at /content/drive\n"
          ],
          "name": "stdout"
        }
      ]
    },
    {
      "cell_type": "markdown",
      "metadata": {
        "id": "FYqCIxzFb3c5"
      },
      "source": [
        "## 1.1 Loading Data"
      ]
    },
    {
      "cell_type": "code",
      "metadata": {
        "id": "dA1jknyqb3c_"
      },
      "source": [
        "#Loading the dataset from GDrive. Loading 50K rows\n",
        "data = pd.read_csv('/content/drive/MyDrive/Colab Notebooks/preprocessed_data.csv', nrows= 50000) #Loading 50K datapoints into a drataframe"
      ],
      "execution_count": null,
      "outputs": []
    },
    {
      "cell_type": "code",
      "metadata": {
        "colab": {
          "base_uri": "https://localhost:8080/"
        },
        "id": "m5E7XpCJyq7x",
        "outputId": "20c30613-3cc8-4c6b-ebdf-47979afacf11"
      },
      "source": [
        "#Looking at the Number of Rows and Columns in the DataFrame\n",
        "print(\"Number of Rows:\", data.shape[0])\n",
        "print(\"Number of Cols:\",data.shape[1])"
      ],
      "execution_count": null,
      "outputs": [
        {
          "output_type": "stream",
          "text": [
            "Number of Rows: 50000\n",
            "Number of Cols: 9\n"
          ],
          "name": "stdout"
        }
      ]
    },
    {
      "cell_type": "code",
      "metadata": {
        "colab": {
          "base_uri": "https://localhost:8080/"
        },
        "id": "uYcelNmqyqgC",
        "outputId": "d22f88a2-938a-4c0e-82ff-e45ec39aea71"
      },
      "source": [
        "#Looking at the Names of the Columns\n",
        "data.columns"
      ],
      "execution_count": null,
      "outputs": [
        {
          "output_type": "execute_result",
          "data": {
            "text/plain": [
              "Index(['school_state', 'teacher_prefix', 'project_grade_category',\n",
              "       'teacher_number_of_previously_posted_projects', 'project_is_approved',\n",
              "       'clean_categories', 'clean_subcategories', 'essay', 'price'],\n",
              "      dtype='object')"
            ]
          },
          "metadata": {
            "tags": []
          },
          "execution_count": 5
        }
      ]
    },
    {
      "cell_type": "code",
      "metadata": {
        "colab": {
          "base_uri": "https://localhost:8080/"
        },
        "id": "vYj8CLbWzlG0",
        "outputId": "bafa37c7-b350-480f-dea2-07cec101746e"
      },
      "source": [
        "#Looking to see the datatypes and checking if there are any Null Values in the columns\n",
        "data.info() "
      ],
      "execution_count": null,
      "outputs": [
        {
          "output_type": "stream",
          "text": [
            "<class 'pandas.core.frame.DataFrame'>\n",
            "RangeIndex: 50000 entries, 0 to 49999\n",
            "Data columns (total 9 columns):\n",
            " #   Column                                        Non-Null Count  Dtype  \n",
            "---  ------                                        --------------  -----  \n",
            " 0   school_state                                  50000 non-null  object \n",
            " 1   teacher_prefix                                50000 non-null  object \n",
            " 2   project_grade_category                        50000 non-null  object \n",
            " 3   teacher_number_of_previously_posted_projects  50000 non-null  int64  \n",
            " 4   project_is_approved                           50000 non-null  int64  \n",
            " 5   clean_categories                              50000 non-null  object \n",
            " 6   clean_subcategories                           50000 non-null  object \n",
            " 7   essay                                         50000 non-null  object \n",
            " 8   price                                         50000 non-null  float64\n",
            "dtypes: float64(1), int64(2), object(6)\n",
            "memory usage: 3.4+ MB\n"
          ],
          "name": "stdout"
        }
      ]
    },
    {
      "cell_type": "code",
      "metadata": {
        "colab": {
          "base_uri": "https://localhost:8080/",
          "height": 400
        },
        "id": "nrWAKlGmz7ed",
        "outputId": "68d64730-b464-4444-c41d-fedd1ebc4d3a"
      },
      "source": [
        "#Looking at the sample dataframe\n",
        "data.head(3) "
      ],
      "execution_count": null,
      "outputs": [
        {
          "output_type": "execute_result",
          "data": {
            "text/html": [
              "<div>\n",
              "<style scoped>\n",
              "    .dataframe tbody tr th:only-of-type {\n",
              "        vertical-align: middle;\n",
              "    }\n",
              "\n",
              "    .dataframe tbody tr th {\n",
              "        vertical-align: top;\n",
              "    }\n",
              "\n",
              "    .dataframe thead th {\n",
              "        text-align: right;\n",
              "    }\n",
              "</style>\n",
              "<table border=\"1\" class=\"dataframe\">\n",
              "  <thead>\n",
              "    <tr style=\"text-align: right;\">\n",
              "      <th></th>\n",
              "      <th>school_state</th>\n",
              "      <th>teacher_prefix</th>\n",
              "      <th>project_grade_category</th>\n",
              "      <th>teacher_number_of_previously_posted_projects</th>\n",
              "      <th>project_is_approved</th>\n",
              "      <th>clean_categories</th>\n",
              "      <th>clean_subcategories</th>\n",
              "      <th>essay</th>\n",
              "      <th>price</th>\n",
              "    </tr>\n",
              "  </thead>\n",
              "  <tbody>\n",
              "    <tr>\n",
              "      <th>0</th>\n",
              "      <td>ca</td>\n",
              "      <td>mrs</td>\n",
              "      <td>grades_prek_2</td>\n",
              "      <td>53</td>\n",
              "      <td>1</td>\n",
              "      <td>math_science</td>\n",
              "      <td>appliedsciences health_lifescience</td>\n",
              "      <td>i fortunate enough use fairy tale stem kits cl...</td>\n",
              "      <td>725.05</td>\n",
              "    </tr>\n",
              "    <tr>\n",
              "      <th>1</th>\n",
              "      <td>ut</td>\n",
              "      <td>ms</td>\n",
              "      <td>grades_3_5</td>\n",
              "      <td>4</td>\n",
              "      <td>1</td>\n",
              "      <td>specialneeds</td>\n",
              "      <td>specialneeds</td>\n",
              "      <td>imagine 8 9 years old you third grade classroo...</td>\n",
              "      <td>213.03</td>\n",
              "    </tr>\n",
              "    <tr>\n",
              "      <th>2</th>\n",
              "      <td>ca</td>\n",
              "      <td>mrs</td>\n",
              "      <td>grades_prek_2</td>\n",
              "      <td>10</td>\n",
              "      <td>1</td>\n",
              "      <td>literacy_language</td>\n",
              "      <td>literacy</td>\n",
              "      <td>having class 24 students comes diverse learner...</td>\n",
              "      <td>329.00</td>\n",
              "    </tr>\n",
              "  </tbody>\n",
              "</table>\n",
              "</div>"
            ],
            "text/plain": [
              "  school_state  ...   price\n",
              "0           ca  ...  725.05\n",
              "1           ut  ...  213.03\n",
              "2           ca  ...  329.00\n",
              "\n",
              "[3 rows x 9 columns]"
            ]
          },
          "metadata": {
            "tags": []
          },
          "execution_count": 7
        }
      ]
    },
    {
      "cell_type": "code",
      "metadata": {
        "id": "XPM38hEY0X06"
      },
      "source": [
        "y= data[\"project_is_approved\"].values                                           #Saving the Y-Values in a seperate Numpy Array \n",
        "x= data.drop('project_is_approved', axis=1)                                     #Saving all the independent variables into a dataframe"
      ],
      "execution_count": null,
      "outputs": []
    },
    {
      "cell_type": "code",
      "metadata": {
        "colab": {
          "base_uri": "https://localhost:8080/",
          "height": 213
        },
        "id": "xdwIs-6c3f0U",
        "outputId": "1f04ee7f-a85f-44eb-fff3-5494c82e004b"
      },
      "source": [
        "x.head(2)"
      ],
      "execution_count": null,
      "outputs": [
        {
          "output_type": "execute_result",
          "data": {
            "text/html": [
              "<div>\n",
              "<style scoped>\n",
              "    .dataframe tbody tr th:only-of-type {\n",
              "        vertical-align: middle;\n",
              "    }\n",
              "\n",
              "    .dataframe tbody tr th {\n",
              "        vertical-align: top;\n",
              "    }\n",
              "\n",
              "    .dataframe thead th {\n",
              "        text-align: right;\n",
              "    }\n",
              "</style>\n",
              "<table border=\"1\" class=\"dataframe\">\n",
              "  <thead>\n",
              "    <tr style=\"text-align: right;\">\n",
              "      <th></th>\n",
              "      <th>school_state</th>\n",
              "      <th>teacher_prefix</th>\n",
              "      <th>project_grade_category</th>\n",
              "      <th>teacher_number_of_previously_posted_projects</th>\n",
              "      <th>clean_categories</th>\n",
              "      <th>clean_subcategories</th>\n",
              "      <th>essay</th>\n",
              "      <th>price</th>\n",
              "    </tr>\n",
              "  </thead>\n",
              "  <tbody>\n",
              "    <tr>\n",
              "      <th>0</th>\n",
              "      <td>ca</td>\n",
              "      <td>mrs</td>\n",
              "      <td>grades_prek_2</td>\n",
              "      <td>53</td>\n",
              "      <td>math_science</td>\n",
              "      <td>appliedsciences health_lifescience</td>\n",
              "      <td>i fortunate enough use fairy tale stem kits cl...</td>\n",
              "      <td>725.05</td>\n",
              "    </tr>\n",
              "    <tr>\n",
              "      <th>1</th>\n",
              "      <td>ut</td>\n",
              "      <td>ms</td>\n",
              "      <td>grades_3_5</td>\n",
              "      <td>4</td>\n",
              "      <td>specialneeds</td>\n",
              "      <td>specialneeds</td>\n",
              "      <td>imagine 8 9 years old you third grade classroo...</td>\n",
              "      <td>213.03</td>\n",
              "    </tr>\n",
              "  </tbody>\n",
              "</table>\n",
              "</div>"
            ],
            "text/plain": [
              "  school_state  ...   price\n",
              "0           ca  ...  725.05\n",
              "1           ut  ...  213.03\n",
              "\n",
              "[2 rows x 8 columns]"
            ]
          },
          "metadata": {
            "tags": []
          },
          "execution_count": 9
        }
      ]
    },
    {
      "cell_type": "markdown",
      "metadata": {
        "id": "WtVV13Fyb3dH"
      },
      "source": [
        "<h2>1.2 Splitting data into Train and cross validation(or test): Stratified Sampling</h2>"
      ]
    },
    {
      "cell_type": "code",
      "metadata": {
        "id": "i-PyprDNb3dI"
      },
      "source": [
        "from sklearn.model_selection import train_test_split                                              #importing the train_test_split\n",
        "x_train,x_test,y_train,y_test= train_test_split(x,y, test_size=0.33, stratify= y)                 #Splitting the x attributes and the y values into the train and test datasets\n",
        "x_train,x_cv, y_train, y_cv= train_test_split(x_train,y_train, test_size=0.33, stratify= y_train) #Further splitting the train dataset into training and the Cross validate datasets\n",
        "\n",
        "#In the above two lines of code we have used the stratify option which basically splits the data in the same proportion of class division as the Dependent Variable"
      ],
      "execution_count": null,
      "outputs": []
    },
    {
      "cell_type": "code",
      "metadata": {
        "colab": {
          "base_uri": "https://localhost:8080/"
        },
        "id": "dLLiN4wq5T_k",
        "outputId": "563d5d3d-0ae4-41e0-da9f-0a0b46e42da8"
      },
      "source": [
        "#Looking at the Number of Rows and Columns in each of the Training, CrossValidate and the Test Datasets\n",
        "print(\"Shape of the Training Data\")\n",
        "print('Rows in the Training Set',x_train.shape[0])\n",
        "print('Columns in the Training Set',x_train.shape[1])\n",
        "print('='*50)\n",
        "print('Shape of the CV Data')\n",
        "print('Rows in the CrossValidate Set',x_cv.shape[0])\n",
        "print('Columns in the CrossValidate Set',x_cv.shape[1])\n",
        "print('='*50)\n",
        "print('Shape of the CV Data')\n",
        "print('Rows in the Testing Set',x_test.shape[0])\n",
        "print('Columns in the Testing Set',x_test.shape[1])"
      ],
      "execution_count": null,
      "outputs": [
        {
          "output_type": "stream",
          "text": [
            "Shape of the Training Data\n",
            "Rows in the Training Set 22445\n",
            "Columns in the Training Set 8\n",
            "==================================================\n",
            "Shape of the CV Data\n",
            "Rows in the CrossValidate Set 11055\n",
            "Columns in the CrossValidate Set 8\n",
            "==================================================\n",
            "Shape of the CV Data\n",
            "Rows in the Testing Set 16500\n",
            "Columns in the Testing Set 8\n"
          ],
          "name": "stdout"
        }
      ]
    },
    {
      "cell_type": "markdown",
      "metadata": {
        "id": "EnZwVNULb3dO"
      },
      "source": [
        "<h2>1.3 Make Data Model Ready: encoding eassay, and project_title</h2>"
      ]
    },
    {
      "cell_type": "markdown",
      "metadata": {
        "id": "Sqo4Rr5aUJKX"
      },
      "source": [
        "###Using Bag of Words"
      ]
    },
    {
      "cell_type": "code",
      "metadata": {
        "id": "-SczZKiab3dR"
      },
      "source": [
        "vect_b = CountVectorizer(min_df=10, ngram_range= (1,4), max_features= 50000)    #Loading the CountVectorizer model into an object/varible vect_b\n",
        "vect_b.fit(x_train['essay'].values)                                             #Fitting here means using the unique words in the essay variable of the x_train dataset\n",
        "x_train_essay_bow= vect_b.transform(x_train['essay'].values)                    #Transforming here means using the unique words in x_train[\"essay\"] to vectorize the essay variable in the x_train dataset\n",
        "x_cv_essay_bow= vect_b.transform(x_cv['essay'].values)                          #Transforming here means using the unique words in x_train[\"essay\"] to vectorize the essay variable in the x_cv dataset\n",
        "x_test_essay_bow= vect_b.transform(x_test['essay'].values)                      #Transforming here means using the unique words in x_train[\"essay\"] to vectorize the essay variable in the x_test dataset\n"
      ],
      "execution_count": null,
      "outputs": []
    },
    {
      "cell_type": "code",
      "metadata": {
        "colab": {
          "base_uri": "https://localhost:8080/"
        },
        "id": "lL2flw7qSmT2",
        "outputId": "bfbc48c5-f667-495b-f5e8-db5e6553df5a"
      },
      "source": [
        "print(\"Shape of X_Train:\",x_train_essay_bow.shape)\n",
        "print(\"Shape of X_CV:\",x_cv_essay_bow.shape)\n",
        "print(\"Shape of X_Test:\",x_test_essay_bow.shape)"
      ],
      "execution_count": null,
      "outputs": [
        {
          "output_type": "stream",
          "text": [
            "Shape of X_Train: (22445, 50000)\n",
            "Shape of X_CV: (11055, 50000)\n",
            "Shape of X_Test: (16500, 50000)\n"
          ],
          "name": "stdout"
        }
      ]
    },
    {
      "cell_type": "markdown",
      "metadata": {
        "id": "TAin-Z13Ub20"
      },
      "source": [
        "###Using TFIDF Vectorizer"
      ]
    },
    {
      "cell_type": "code",
      "metadata": {
        "id": "TK_IOe1lTT6G"
      },
      "source": [
        "from sklearn.feature_extraction.text import TfidfVectorizer                     #Importing the Tfidf vectorizer from sklearn\n",
        "\n",
        "vect_tf= TfidfVectorizer(min_df=10)                                             #Saving the vectorizer in a varible\n",
        "\n",
        "vect_tf.fit(x_train['essay'].values)                                            #fitting the model on the training dataset\n",
        "\n",
        "x_train_essay_tf= vect_tf.transform(x_train['essay'].values)                    #Transforming the train,CV & test datasets basis the fit done ont Training dataset\n",
        "x_cv_essay_tf= vect_tf.transform(x_cv['essay'].values)\n",
        "x_test_essay_tf= vect_tf.transform(x_test['essay'].values)"
      ],
      "execution_count": null,
      "outputs": []
    },
    {
      "cell_type": "code",
      "metadata": {
        "colab": {
          "base_uri": "https://localhost:8080/"
        },
        "id": "F2xzQQl7da2e",
        "outputId": "8494f35b-09a5-4bb0-ec44-f04c6f4a0c5a"
      },
      "source": [
        "print(\"Shape of X_Train:\",x_train_essay_tf.shape)\n",
        "print(\"Shape of X_CV:\",x_cv_essay_tf.shape)\n",
        "print(\"Shape of X_Test:\",x_test_essay_tf.shape)"
      ],
      "execution_count": null,
      "outputs": [
        {
          "output_type": "stream",
          "text": [
            "Shape of X_Train: (22445, 8798)\n",
            "Shape of X_CV: (11055, 8798)\n",
            "Shape of X_Test: (16500, 8798)\n"
          ],
          "name": "stdout"
        }
      ]
    },
    {
      "cell_type": "markdown",
      "metadata": {
        "id": "bGy86kgHb3dX"
      },
      "source": [
        "<h2>1.4 Make Data Model Ready: encoding numerical, categorical features</h2>"
      ]
    },
    {
      "cell_type": "markdown",
      "metadata": {
        "id": "xY7WLWbOg9fc"
      },
      "source": [
        "###Encoding of Categorical Features"
      ]
    },
    {
      "cell_type": "code",
      "metadata": {
        "id": "EfXkofX1b3da"
      },
      "source": [
        "vect_ohe= CountVectorizer()\n",
        "\n",
        "vect_ohe.fit(x_train['school_state'].values)\n",
        "\n",
        "# we use the fitted CountVectorizer to convert the text to vector\n",
        "x_train_state_ohe = vect_ohe.transform(x_train['school_state'].values)\n",
        "x_cv_state_ohe = vect_ohe.transform(x_cv['school_state'].values)\n",
        "x_test_state_ohe = vect_ohe.transform(x_test['school_state'].values)\n"
      ],
      "execution_count": null,
      "outputs": []
    },
    {
      "cell_type": "code",
      "metadata": {
        "id": "XOlNlqBce0Ta"
      },
      "source": [
        "vect_ohe.fit(x_train['teacher_prefix'].values)\n",
        "\n",
        "# we use the fitted CountVectorizer to convert the text to vector\n",
        "x_train_tp_ohe = vect_ohe.transform(x_train['teacher_prefix'].values)\n",
        "x_cv_tp_ohe = vect_ohe.transform(x_cv['teacher_prefix'].values)\n",
        "x_test_tp_ohe = vect_ohe.transform(x_test['teacher_prefix'].values)"
      ],
      "execution_count": null,
      "outputs": []
    },
    {
      "cell_type": "code",
      "metadata": {
        "id": "O6-igYf3faOh"
      },
      "source": [
        "vect_ohe.fit(x_train['project_grade_category'].values)\n",
        "\n",
        "# we use the fitted CountVectorizer to convert the text to vector\n",
        "x_train_pc_ohe = vect_ohe.transform(x_train['project_grade_category'].values)\n",
        "x_cv_pc_ohe = vect_ohe.transform(x_cv['project_grade_category'].values)\n",
        "x_test_pc_ohe = vect_ohe.transform(x_test['project_grade_category'].values)"
      ],
      "execution_count": null,
      "outputs": []
    },
    {
      "cell_type": "code",
      "metadata": {
        "id": "KM78bG9_f0kF"
      },
      "source": [
        "vect_ohe.fit(x_train['clean_categories'].values)\n",
        "\n",
        "# we use the fitted CountVectorizer to convert the text to vector\n",
        "x_train_cc_ohe = vect_ohe.transform(x_train['clean_categories'].values)\n",
        "x_cv_cc_ohe = vect_ohe.transform(x_cv['clean_categories'].values)\n",
        "x_test_cc_ohe = vect_ohe.transform(x_test['clean_categories'].values)"
      ],
      "execution_count": null,
      "outputs": []
    },
    {
      "cell_type": "code",
      "metadata": {
        "id": "ShHChgJqguzy"
      },
      "source": [
        "vect_ohe.fit(x_train['clean_subcategories'].values)\n",
        "\n",
        "# we use the fitted CountVectorizer to convert the text to vector\n",
        "x_train_cs_ohe = vect_ohe.transform(x_train['clean_subcategories'].values)\n",
        "x_cv_cs_ohe = vect_ohe.transform(x_cv['clean_subcategories'].values)\n",
        "x_test_cs_ohe = vect_ohe.transform(x_test['clean_subcategories'].values)"
      ],
      "execution_count": null,
      "outputs": []
    },
    {
      "cell_type": "markdown",
      "metadata": {
        "id": "4Qg4Imq5iEU1"
      },
      "source": [
        "###Standardizing/Normalizing the Numerical Features"
      ]
    },
    {
      "cell_type": "code",
      "metadata": {
        "id": "xaxFFgNBjESk"
      },
      "source": [
        "from sklearn.preprocessing import Normalizer\n",
        "normalizer= Normalizer()\n",
        "normalizer.fit(x_train[\"price\"].values.reshape(-1,1))\n",
        "\n",
        "x_train_pr_nor= normalizer.transform(x_train[\"price\"].values.reshape(-1,1))\n",
        "x_cv_pr_nor= normalizer.transform(x_cv[\"price\"].values.reshape(-1,1))\n",
        "x_test_pr_nor= normalizer.transform(x_test[\"price\"].values.reshape(-1,1))"
      ],
      "execution_count": null,
      "outputs": []
    },
    {
      "cell_type": "code",
      "metadata": {
        "colab": {
          "base_uri": "https://localhost:8080/"
        },
        "id": "a1Ez6mbt79YN",
        "outputId": "4e31c6a8-ab13-4ae1-fe42-41fc8362c80b"
      },
      "source": [
        "print(x_train_pr_nor.shape)\n",
        "print(x_cv_pr_nor.shape)\n",
        "print(x_test_pr_nor.shape)"
      ],
      "execution_count": null,
      "outputs": [
        {
          "output_type": "stream",
          "text": [
            "(22445, 1)\n",
            "(11055, 1)\n",
            "(16500, 1)\n"
          ],
          "name": "stdout"
        }
      ]
    },
    {
      "cell_type": "code",
      "metadata": {
        "id": "TsLHRZW0jGHT"
      },
      "source": [
        "normalizer.fit(x_train[\"teacher_number_of_previously_posted_projects\"].values.reshape(-1,1))\n",
        "\n",
        "x_train_pp_nor = normalizer.transform(x_train[\"teacher_number_of_previously_posted_projects\"].values.reshape(-1,1))\n",
        "x_cv_pp_nor = normalizer.transform(x_cv[\"teacher_number_of_previously_posted_projects\"].values.reshape(-1,1))\n",
        "x_test_pp_nor = normalizer.transform(x_test[\"teacher_number_of_previously_posted_projects\"].values.reshape(-1,1))"
      ],
      "execution_count": null,
      "outputs": []
    },
    {
      "cell_type": "code",
      "metadata": {
        "colab": {
          "base_uri": "https://localhost:8080/"
        },
        "id": "J2VoP0idw-kJ",
        "outputId": "408fef1a-7c24-4f3a-d5a8-ac30ea20d485"
      },
      "source": [
        "print(x_train_pp_nor.shape)\n",
        "print(x_cv_pp_nor.shape)\n",
        "print(x_test_pp_nor.shape)"
      ],
      "execution_count": null,
      "outputs": [
        {
          "output_type": "stream",
          "text": [
            "(22445, 1)\n",
            "(11055, 1)\n",
            "(16500, 1)\n"
          ],
          "name": "stdout"
        }
      ]
    },
    {
      "cell_type": "markdown",
      "metadata": {
        "id": "SQbb0mSm8wsY"
      },
      "source": [
        "##Concatinating the modified features"
      ]
    },
    {
      "cell_type": "markdown",
      "metadata": {
        "id": "G4i-UfiNC_5K"
      },
      "source": [
        "###Concatination for the Bag of Words Method"
      ]
    },
    {
      "cell_type": "code",
      "metadata": {
        "id": "f6iotHHy8sRY"
      },
      "source": [
        "from scipy.sparse import hstack\n",
        "x_tr_b= hstack((x_train_essay_bow,x_train_state_ohe,x_train_tp_ohe,x_train_pc_ohe,x_train_cc_ohe,x_train_cs_ohe,x_train_pr_nor,x_train_pp_nor)).tocsr()\n",
        "x_cv_b= hstack((x_cv_essay_bow,x_cv_state_ohe,x_cv_tp_ohe,x_cv_pc_ohe,x_cv_cc_ohe,x_cv_cs_ohe,x_cv_pr_nor,x_cv_pp_nor)).tocsr()\n",
        "x_te_b= hstack((x_test_essay_bow,x_test_state_ohe,x_test_tp_ohe,x_test_pc_ohe,x_test_cc_ohe,x_test_cs_ohe,x_test_pr_nor,x_test_pp_nor)).tocsr()"
      ],
      "execution_count": null,
      "outputs": []
    },
    {
      "cell_type": "code",
      "metadata": {
        "colab": {
          "base_uri": "https://localhost:8080/"
        },
        "id": "Rz_XknV9Cizo",
        "outputId": "6b97b6ea-b23f-4a74-d6ac-3948c869e63b"
      },
      "source": [
        "print(x_tr_b.shape)\n",
        "print(x_cv_b.shape)\n",
        "print(x_te_b.shape)"
      ],
      "execution_count": null,
      "outputs": [
        {
          "output_type": "stream",
          "text": [
            "(22445, 50101)\n",
            "(11055, 50101)\n",
            "(16500, 50101)\n"
          ],
          "name": "stdout"
        }
      ]
    },
    {
      "cell_type": "markdown",
      "metadata": {
        "id": "BsIW8siCDLF_"
      },
      "source": [
        "###Concatination for the TFIDF Method"
      ]
    },
    {
      "cell_type": "code",
      "metadata": {
        "id": "6qjpA7MMDKrc"
      },
      "source": [
        "x_tr_tf= hstack((x_train_essay_tf,x_train_state_ohe,x_train_tp_ohe,x_train_pc_ohe,x_train_cc_ohe,x_train_cs_ohe,x_train_pr_nor,x_train_pp_nor)).tocsr()\n",
        "x_cv_tf= hstack((x_cv_essay_tf,x_cv_state_ohe,x_cv_tp_ohe,x_cv_pc_ohe,x_cv_cc_ohe,x_cv_cs_ohe,x_cv_pr_nor,x_cv_pp_nor)).tocsr()\n",
        "x_te_tf= hstack((x_test_essay_tf,x_test_state_ohe,x_test_tp_ohe,x_test_pc_ohe,x_test_cc_ohe,x_test_cs_ohe,x_test_pr_nor,x_test_pp_nor)).tocsr()"
      ],
      "execution_count": null,
      "outputs": []
    },
    {
      "cell_type": "code",
      "metadata": {
        "colab": {
          "base_uri": "https://localhost:8080/"
        },
        "id": "B9BhRqxmDydm",
        "outputId": "059d640f-fe92-4f98-aaee-8d11dde6c0d5"
      },
      "source": [
        "print(x_tr_tf.shape)\n",
        "print(x_cv_tf.shape)\n",
        "print(x_te_tf.shape)"
      ],
      "execution_count": null,
      "outputs": [
        {
          "output_type": "stream",
          "text": [
            "(22445, 8899)\n",
            "(11055, 8899)\n",
            "(16500, 8899)\n"
          ],
          "name": "stdout"
        }
      ]
    },
    {
      "cell_type": "markdown",
      "metadata": {
        "id": "yYHPYadYb3dh"
      },
      "source": [
        "<h2>1.5 Appling NB on different kind of featurization as mentioned in the instructions</h2>"
      ]
    },
    {
      "cell_type": "markdown",
      "metadata": {
        "id": "NepAmjUJOZkN"
      },
      "source": [
        "###Custom function to give the probablity of the a datapoint belonging to the postive class (Project_approved=1) batch-wise"
      ]
    },
    {
      "cell_type": "code",
      "metadata": {
        "id": "DNwqilFxb3di"
      },
      "source": [
        "def batch_predict(clf,data):\n",
        "  y_data_pred=[]                                                                #Initializing a list\n",
        "  diff_rows= data.shape[0] - (data.shape[0]%1000)                               #Breaking the dataset into multiples of 1000 and saving the remaining into diff_rows variable\n",
        "\n",
        "  for i in range(0,diff_rows,1000):                                             #Predicting the Probablity Values for all the rows in batches of 1000\n",
        "    y_data_pred.extend(clf.predict_proba(data[i:i+1000])[:,1])\n",
        "\n",
        "  if diff_rows!= 0:\n",
        "    y_data_pred.extend(clf.predict_proba(data[diff_rows:])[:,1])                #Predicting the Probablity Values for all the rows above the highest multiple of 1000\n",
        "\n",
        "  return y_data_pred"
      ],
      "execution_count": null,
      "outputs": []
    },
    {
      "cell_type": "code",
      "metadata": {
        "colab": {
          "base_uri": "https://localhost:8080/",
          "height": 367
        },
        "id": "3qH_vjOVfV-h",
        "outputId": "bc3adc0b-7b20-4b34-fcb1-a9bdeaeee243"
      },
      "source": [
        "from sklearn.naive_bayes import MultinomialNB                                   #Loading the requisite libraries\n",
        "from sklearn.metrics import roc_auc_score\n",
        "import matplotlib.pyplot as plt\n",
        "\n",
        "train_auc=[]                                                                    #Initilizing lists and the assuming a set of Alpha values\n",
        "cv_auc=[]\n",
        "alp= [0.00001,0.0005, 0.0001,0.005,0.001,0.05,0.01,0.1,0.5,1,5,6,7,8,10,15,30,45,60,80,100]\n",
        "\n",
        "for i in tqdm(alp):                                                             #Looping through each value of aplha to get a different set of Y_pred for each value of Alpha\n",
        "  naib= MultinomialNB(alpha= i, class_prior= np.array([0.5,0.5]))               #Calling the model and storing in a variable\n",
        "\n",
        "  naib.fit(x_tr_b,y_train)                                                      #Fitting the model and the predicting the Y values on train and cv datasets\n",
        "\n",
        "  y_pred_train= batch_predict(naib,x_tr_b)\n",
        "  y_pred_cv= batch_predict(naib,x_cv_b)\n",
        "\n",
        "  train_auc.append(roc_auc_score(y_train, y_pred_train))\n",
        "  cv_auc.append(roc_auc_score(y_cv, y_pred_cv))\n",
        "\n",
        "#Converting the Alpha values to Log scale for ease of readability\n",
        "l_alp=[]\n",
        "for j in alp:\n",
        "  l_alp.append(np.log(j))\n",
        "\n",
        "#Plotting the AUC values for Train and CV datasets against the Alpha values\n",
        "plt.figure(figsize=(15,5))\n",
        "plt.plot(l_alp, train_auc, label=\"Train AUC\")\n",
        "plt.plot(l_alp, cv_auc, label= \"CV AUC\")\n",
        "\n",
        "plt.scatter(l_alp, train_auc, label=\"Train AUC Points\")\n",
        "plt.scatter(l_alp, cv_auc, label=\"CV AUC Points\")\n",
        "\n",
        "plt.legend()\n",
        "\n",
        "plt.title('ERROR PLOTS')\n",
        "plt.xlabel(\"Alpha: Hyperparameter\")\n",
        "plt.ylabel(\"AUC Values\")\n",
        "plt.grid()\n",
        "plt.show()\n"
      ],
      "execution_count": null,
      "outputs": [
        {
          "output_type": "stream",
          "text": [
            "100%|██████████| 21/21 [00:03<00:00,  5.48it/s]\n"
          ],
          "name": "stderr"
        },
        {
          "output_type": "display_data",
          "data": {
            "image/png": "[encoded data removed]",
            "text/plain": [
              "<Figure size 1080x360 with 1 Axes>"
            ]
          },
          "metadata": {
            "tags": [],
            "needs_background": "light"
          }
        }
      ]
    },
    {
      "cell_type": "markdown",
      "metadata": {
        "id": "4VmXd7x8RCqm"
      },
      "source": [
        "###Observation: We see that AUC value for CV dataset is the highest at ~0.7 for Alpha values of 0. Alpha values here are in Log scale"
      ]
    },
    {
      "cell_type": "code",
      "metadata": {
        "colab": {
          "base_uri": "https://localhost:8080/"
        },
        "id": "cfrEvYdUJAR0",
        "outputId": "062e549e-d959-49ea-d3a5-ee4a1e53bc5f"
      },
      "source": [
        "#Converting the Log(alpha) values\n",
        "best_alpha= np.exp(0)\n",
        "print(\"Best Alpha Value:\", best_alpha)"
      ],
      "execution_count": null,
      "outputs": [
        {
          "output_type": "stream",
          "text": [
            "Best Alpha Value: 1.0\n"
          ],
          "name": "stdout"
        }
      ]
    },
    {
      "cell_type": "markdown",
      "metadata": {
        "id": "vubZs8ipRuDc"
      },
      "source": [
        "###Plotting the ROC curve for the best aplha value which herein is 1 for both the Train and Test datasets"
      ]
    },
    {
      "cell_type": "code",
      "metadata": {
        "colab": {
          "base_uri": "https://localhost:8080/",
          "height": 350
        },
        "id": "q61nJ1a0LLbT",
        "outputId": "9f8fa57b-e4e8-4c95-bfed-386844791d8a"
      },
      "source": [
        "from sklearn.metrics import roc_curve, auc\n",
        "from sklearn.metrics import confusion_matrix\n",
        "import matplotlib.pyplot as plt\n",
        "import seaborn as sns\n",
        "\n",
        "naib= MultinomialNB(alpha= 1,class_prior=np.array([0.5,0.5]))\n",
        "\n",
        "naib.fit(x_tr_b,y_train)\n",
        "\n",
        "y_train_pred= batch_predict(naib,x_tr_b)\n",
        "y_test_pred= batch_predict(naib, x_te_b)\n",
        "\n",
        "train_fpr, train_tpr, tr_thresholds = roc_curve(y_train, y_train_pred)\n",
        "test_fpr, test_tpr, te_thresholds = roc_curve(y_test, y_test_pred)\n",
        "\n",
        "\n",
        "plt.figure(figsize= (10,5))\n",
        "plt.plot(train_fpr, train_tpr, label=\"train AUC =\"+str(auc(train_fpr, train_tpr)))\n",
        "plt.plot(test_fpr, test_tpr, label=\"test AUC =\"+str(auc(test_fpr, test_tpr)))\n",
        "plt.legend()\n",
        "plt.xlabel(\"FPR Values\")\n",
        "plt.ylabel('TPR Values')\n",
        "plt.title('ROC Curve for TFIDF')\n",
        "plt.show()\n"
      ],
      "execution_count": null,
      "outputs": [
        {
          "output_type": "display_data",
          "data": {
            "image/png": "[encoded data removed]",
            "text/plain": [
              "<Figure size 720x360 with 1 Axes>"
            ]
          },
          "metadata": {
            "tags": [],
            "needs_background": "light"
          }
        }
      ]
    },
    {
      "cell_type": "markdown",
      "metadata": {
        "id": "uEgMap8dSGfr"
      },
      "source": [
        "###Obseravation: Here from the above graph we see that the AUC for train dataset is 0.91 and for the Test dataset is 0.69. The Model seem to have performed fairly well, although there could be some indication of overfitting as we need the Train and Test AUC values to come as close as possible. "
      ]
    },
    {
      "cell_type": "markdown",
      "metadata": {
        "id": "4L8woLGzxtg9"
      },
      "source": [
        "##Confusion Matrix for both Train and Test Data at Threshold of 0.5"
      ]
    },
    {
      "cell_type": "markdown",
      "metadata": {
        "id": "IHL9T4roTREC"
      },
      "source": [
        "####Confusion Matrix on Training Dataset"
      ]
    },
    {
      "cell_type": "code",
      "metadata": {
        "colab": {
          "base_uri": "https://localhost:8080/",
          "height": 295
        },
        "id": "xae76OKZxi5a",
        "outputId": "3da8a523-f21c-48d6-ea9d-2e00c462ce4c"
      },
      "source": [
        "#Reference for the code: https://stackoverflow.com/questions/61748441/how-to-fix-the-values-displayed-in-a-confusion-matrix-in-exponential-form-to-nor\n",
        "\n",
        "for i in range(len(y_train_pred)):\n",
        "  if y_train_pred[i]>=0.5:\n",
        "    y_train_pred[i]=1\n",
        "  else:\n",
        "    y_train_pred[i]=0\n",
        "\n",
        "cp_tr= confusion_matrix(y_train,y_train_pred)\n",
        "ax= plt.subplot();\n",
        "sns.heatmap(cp_tr, annot=True,cmap='Blues',ax=ax);\n",
        "# labels, title and ticks\n",
        "ax.set_xlabel('Predicted labels');ax.set_ylabel('True labels'); \n",
        "ax.set_ylim(2.0, 0)\n",
        "ax.set_title('Confusion Matrix on Training Dataset');\n",
        "ax.xaxis.set_ticklabels(['Fake','Real']); \n",
        "ax.yaxis.set_ticklabels(['Fake','Real']);"
      ],
      "execution_count": null,
      "outputs": [
        {
          "output_type": "display_data",
          "data": {
            "image/png": "[encoded data removed]",
            "text/plain": [
              "<Figure size 432x288 with 2 Axes>"
            ]
          },
          "metadata": {
            "tags": [],
            "needs_background": "light"
          }
        }
      ]
    },
    {
      "cell_type": "markdown",
      "metadata": {
        "id": "gY-uJPz9Tb-t"
      },
      "source": [
        "####Confusion Matrix on Test Dataset"
      ]
    },
    {
      "cell_type": "code",
      "metadata": {
        "colab": {
          "base_uri": "https://localhost:8080/",
          "height": 295
        },
        "id": "mSQ2w2uexj6b",
        "outputId": "f4094196-7ad1-4e40-cd39-e0bd657d23fe"
      },
      "source": [
        "#Reference for the code: https://stackoverflow.com/questions/61748441/how-to-fix-the-values-displayed-in-a-confusion-matrix-in-exponential-form-to-nor\n",
        "for j in range(len(y_test_pred)):\n",
        "  if y_test_pred[j]>=0.5:\n",
        "    y_test_pred[j]=1\n",
        "  else:\n",
        "    y_test_pred[j]=0\n",
        "\n",
        "cp_te= confusion_matrix(y_test,y_test_pred)\n",
        "ax= plt.subplot();\n",
        "sns.heatmap(cp_te, annot=True,cmap='Blues',ax=ax);\n",
        "# labels, title and ticks\n",
        "ax.set_xlabel('Predicted labels');ax.set_ylabel('True labels'); \n",
        "ax.set_ylim(2.0, 0)\n",
        "ax.set_title('Confusion Matrix on Test Dataset');\n",
        "ax.xaxis.set_ticklabels(['Fake','Real']); \n",
        "ax.yaxis.set_ticklabels(['Fake','Real']);"
      ],
      "execution_count": null,
      "outputs": [
        {
          "output_type": "display_data",
          "data": {
            "image/png": "[encoded data removed]",
            "text/plain": [
              "<Figure size 432x288 with 2 Axes>"
            ]
          },
          "metadata": {
            "tags": [],
            "needs_background": "light"
          }
        }
      ]
    },
    {
      "cell_type": "code",
      "metadata": {
        "id": "V99NTpWzgYjh"
      },
      "source": [
        ""
      ],
      "execution_count": null,
      "outputs": []
    },
    {
      "cell_type": "markdown",
      "metadata": {
        "id": "DqzPSgsOaFAJ"
      },
      "source": [
        "##Applyting the NaiveBayes Classifier on TFIDF vectorized set of text data"
      ]
    },
    {
      "cell_type": "code",
      "metadata": {
        "colab": {
          "base_uri": "https://localhost:8080/",
          "height": 367
        },
        "id": "Zy2-_x8uVgDY",
        "outputId": "2f9121c3-1195-4668-97b9-8598303bd57a"
      },
      "source": [
        "train_auc_tf=[]\n",
        "cv_auc_tf=[]\n",
        "alp= [0.00001,0.0001, 0.0005,0.001,0.005,0.01,0.05,0.1,0.5,1,5,6,7,8,10,15,30,45,60,80,100]\n",
        "alp.sort()\n",
        "for i in tqdm(alp):\n",
        "  naib= MultinomialNB(alpha= i, class_prior= np.array([0.5,0.5]))\n",
        "\n",
        "  naib.fit(x_tr_tf,y_train)\n",
        "\n",
        "  y_pred_train_tf= batch_predict(naib,x_tr_tf)\n",
        "  y_pred_cv_tf= batch_predict(naib,x_cv_tf)\n",
        "\n",
        "  train_auc_tf.append(roc_auc_score(y_train, y_pred_train_tf))\n",
        "  cv_auc_tf.append(roc_auc_score(y_cv, y_pred_cv_tf))\n",
        "\n",
        "l_alp_tf=[]\n",
        "for j in alp:\n",
        "  l_alp_tf.append(np.log(j))\n",
        "\n",
        "plt.figure(figsize=(15,5))\n",
        "plt.plot(l_alp, train_auc_tf, label=\"Train AUC\")\n",
        "plt.plot(l_alp, cv_auc_tf, label= \"CV AUC\")\n",
        "\n",
        "plt.scatter(l_alp, train_auc_tf, label=\"Train AUC Points\")\n",
        "plt.scatter(l_alp, cv_auc_tf, label=\"CV AUC Points\")\n",
        "\n",
        "plt.legend()\n",
        "\n",
        "plt.title('ERROR PLOTS')\n",
        "plt.xlabel(\"Alpha: Hyperparameter\")\n",
        "plt.ylabel(\"AUC Values\")\n",
        "plt.grid()\n",
        "plt.show()"
      ],
      "execution_count": null,
      "outputs": [
        {
          "output_type": "stream",
          "text": [
            "100%|██████████| 21/21 [00:02<00:00,  9.37it/s]\n"
          ],
          "name": "stderr"
        },
        {
          "output_type": "display_data",
          "data": {
            "image/png": "[encoded data removed]",
            "text/plain": [
              "<Figure size 1080x360 with 1 Axes>"
            ]
          },
          "metadata": {
            "tags": [],
            "needs_background": "light"
          }
        }
      ]
    },
    {
      "cell_type": "markdown",
      "metadata": {
        "id": "cqvcxuOiTnkE"
      },
      "source": [
        "Observation: We see that AUC value for CV dataset is the highest at ~0.67 for Alpha values of -3. Alpha values here are in Log scale"
      ]
    },
    {
      "cell_type": "code",
      "metadata": {
        "colab": {
          "base_uri": "https://localhost:8080/"
        },
        "id": "MhB6NtcMVf0V",
        "outputId": "fa19c531-464e-4d4c-cb63-c265951d657c"
      },
      "source": [
        "#Converting the Log(alpha) values\n",
        "np.exp(-3)"
      ],
      "execution_count": null,
      "outputs": [
        {
          "output_type": "execute_result",
          "data": {
            "text/plain": [
              "0.049787068367863944"
            ]
          },
          "metadata": {
            "tags": []
          },
          "execution_count": 36
        }
      ]
    },
    {
      "cell_type": "code",
      "metadata": {
        "colab": {
          "base_uri": "https://localhost:8080/",
          "height": 350
        },
        "id": "0pAb9c3-bK4g",
        "outputId": "4b916dfe-3492-40a8-e491-41008db6b66f"
      },
      "source": [
        "import matplotlib.pyplot as plt\n",
        "\n",
        "naib= MultinomialNB(alpha= 0.05,class_prior=np.array([0.5,0.5]))\n",
        "\n",
        "naib.fit(x_tr_tf,y_train)\n",
        "\n",
        "y_train_pred_tf= batch_predict(naib,x_tr_tf)\n",
        "y_test_pred_tf= batch_predict(naib, x_te_tf)\n",
        "\n",
        "train_fpr_tf, train_tpr_tf, tr_thresholds_tf = roc_curve(y_train, y_train_pred_tf)\n",
        "test_fpr_tf, test_tpr_tf, te_thresholds_tf = roc_curve(y_test, y_test_pred_tf)\n",
        "\n",
        "plt.figure(figsize= (10,5))\n",
        "plt.plot(train_fpr_tf, train_tpr_tf, label=\"train AUC =\"+str(auc(train_fpr_tf, train_tpr_tf)))\n",
        "plt.plot(test_fpr_tf, test_tpr_tf, label=\"test AUC =\"+str(auc(test_fpr_tf, test_tpr_tf)))\n",
        "plt.legend()\n",
        "plt.xlabel(\"FPR Values\")\n",
        "plt.ylabel('TPR Values')\n",
        "plt.title('ROC Curve for TFIDF')\n",
        "plt.show()"
      ],
      "execution_count": null,
      "outputs": [
        {
          "output_type": "display_data",
          "data": {
            "image/png": "[encoded data removed]",
            "text/plain": [
              "<Figure size 720x360 with 1 Axes>"
            ]
          },
          "metadata": {
            "tags": [],
            "needs_background": "light"
          }
        }
      ]
    },
    {
      "cell_type": "markdown",
      "metadata": {
        "id": "zpj150IjT-fi"
      },
      "source": [
        "Obseravation: Here from the above graph we see that the AUC for train dataset is 0.91 and for the Test dataset is 0.67. The Model seem to have performed better than the BOW factorization. Although the AUC here is fractionally lower that we got under BOW factorization as the Train and Test AUC values are closer than they were in the case of BOW."
      ]
    },
    {
      "cell_type": "markdown",
      "metadata": {
        "id": "4HdN-7K3x5BA"
      },
      "source": [
        "##Confusion Matrix for both Train and Test Data at Threshold of 0.5"
      ]
    },
    {
      "cell_type": "markdown",
      "metadata": {
        "id": "d2VyaX4JUnaa"
      },
      "source": [
        "#####Confusion Matrix on Train Dataset"
      ]
    },
    {
      "cell_type": "code",
      "metadata": {
        "colab": {
          "base_uri": "https://localhost:8080/",
          "height": 295
        },
        "id": "n52UNPF6x4my",
        "outputId": "96b96455-b572-4379-f6fe-d4a0d0266f95"
      },
      "source": [
        "#Reference for the code: https://stackoverflow.com/questions/61748441/how-to-fix-the-values-displayed-in-a-confusion-matrix-in-exponential-form-to-nor\n",
        "for i in range(len(y_train_pred_tf)):\n",
        "  if y_train_pred_tf[i]>=0.5:\n",
        "    y_train_pred_tf[i]=1\n",
        "  else:\n",
        "    y_train_pred_tf[i]=0\n",
        "\n",
        "cp_tr_tf= confusion_matrix(y_train,y_train_pred_tf)\n",
        "ax= plt.subplot();\n",
        "sns.heatmap(cp_tr_tf, annot=True,cmap='Blues',ax=ax);\n",
        "# labels, title and ticks\n",
        "ax.set_xlabel('Predicted labels');ax.set_ylabel('True labels'); \n",
        "ax.set_ylim(2.0, 0)\n",
        "ax.set_title('Confusion Matrix on Training Dataset');\n",
        "ax.xaxis.set_ticklabels(['Fake','Real']); \n",
        "ax.yaxis.set_ticklabels(['Fake','Real']);"
      ],
      "execution_count": null,
      "outputs": [
        {
          "output_type": "display_data",
          "data": {
            "image/png": "[encoded data removed]",
            "text/plain": [
              "<Figure size 432x288 with 2 Axes>"
            ]
          },
          "metadata": {
            "tags": [],
            "needs_background": "light"
          }
        }
      ]
    },
    {
      "cell_type": "markdown",
      "metadata": {
        "id": "2habm54LUtAx"
      },
      "source": [
        "#####Confusion Matrix on Test Dataset"
      ]
    },
    {
      "cell_type": "code",
      "metadata": {
        "colab": {
          "base_uri": "https://localhost:8080/",
          "height": 295
        },
        "id": "_reSZ5QWbKeB",
        "outputId": "ed8c4dac-3d75-4152-819d-6b089ef54998"
      },
      "source": [
        "#Reference for the code: https://stackoverflow.com/questions/61748441/how-to-fix-the-values-displayed-in-a-confusion-matrix-in-exponential-form-to-nor\n",
        "for j in range(len(y_test_pred_tf)):\n",
        "  if y_test_pred_tf[j]>=0.5:\n",
        "    y_test_pred_tf[j]=1\n",
        "  else:\n",
        "    y_test_pred_tf[j]=0\n",
        "\n",
        "cp_te_tf= confusion_matrix(y_test,y_test_pred_tf)\n",
        "ax= plt.subplot();\n",
        "sns.heatmap(cp_te_tf, annot=True,cmap='Blues',ax=ax);\n",
        "# labels, title and ticks\n",
        "ax.set_xlabel('Predicted labels');ax.set_ylabel('True labels'); \n",
        "ax.set_ylim(2.0, 0)\n",
        "ax.set_title('Confusion Matrix on Test Dataset');\n",
        "ax.xaxis.set_ticklabels(['Fake','Real']); \n",
        "ax.yaxis.set_ticklabels(['Fake','Real']);"
      ],
      "execution_count": null,
      "outputs": [
        {
          "output_type": "display_data",
          "data": {
            "image/png": "[encoded data removed]",
            "text/plain": [
              "<Figure size 432x288 with 2 Axes>"
            ]
          },
          "metadata": {
            "tags": [],
            "needs_background": "light"
          }
        }
      ]
    },
    {
      "cell_type": "markdown",
      "metadata": {
        "id": "D0DDWKztUyoa"
      },
      "source": [
        "##Getting the Top 20 Positive and Negative Values"
      ]
    },
    {
      "cell_type": "code",
      "metadata": {
        "id": "I6z-nb-D2lMR",
        "colab": {
          "base_uri": "https://localhost:8080/"
        },
        "outputId": "cc52b2a4-84d7-426c-81b4-8d5fda884a66"
      },
      "source": [
        "#Getting the Log Probablities of all the features\n",
        "naib.fit(x_tr_tf,y_train).feature_log_prob_"
      ],
      "execution_count": null,
      "outputs": [
        {
          "output_type": "execute_result",
          "data": {
            "text/plain": [
              "array([[-10.85512498,  -9.7672013 ,  -8.9366489 , ..., -10.93927279,\n",
              "         -2.80074978,  -3.24737682],\n",
              "       [-10.87676939,  -9.83355453,  -8.77983015, ..., -12.60418253,\n",
              "         -2.80870185,  -3.17458807]])"
            ]
          },
          "metadata": {
            "tags": []
          },
          "execution_count": 40
        }
      ]
    },
    {
      "cell_type": "code",
      "metadata": {
        "id": "_Clso6Vh2lHA"
      },
      "source": [
        "#Sorting the Postive and Negative features basis log probablities\n",
        "fea= np.argsort(naib.fit(x_tr_tf,y_train).feature_log_prob_)\n",
        "#Storing the top 20 postive features with highest proababilities\n",
        "pos_fea= np.flip(fea[0])[:20]\n",
        "#Storing the top 20 negative features with highest proababilities\n",
        "neg_fea= np.flip(fea[1])[:20]"
      ],
      "execution_count": null,
      "outputs": []
    },
    {
      "cell_type": "code",
      "metadata": {
        "colab": {
          "base_uri": "https://localhost:8080/"
        },
        "id": "J7EQeXTMAFKQ",
        "outputId": "e359310c-06a4-46da-d918-a87722a1b0ad"
      },
      "source": [
        "#References for the below code:\n",
        "#https://www.kaggle.com/nikhilparmar9/naive-bayes-donorschoose-dataset\n",
        "#https://github.com/sujitjean/Naive-Bayes-Algorithm-for-Classification-of-DonorsChoose\n",
        "\n",
        "l=[]\n",
        "for i in vect_b.get_feature_names():\n",
        "  l.append(i)\n",
        "\n",
        "for i in vect_ohe.get_feature_names():\n",
        "  l.append(i)\n",
        "\n",
        "print(\"The Top 20 Features in the Positive Class are:\",np.take(l,pos_fea))\n",
        "print(\"=\"*150)\n",
        "print(\"The Top 20 Features in the Negative Class are:\",np.take(l,neg_fea)) "
      ],
      "execution_count": null,
      "outputs": [
        {
          "output_type": "stream",
          "text": [
            "The Top 20 Features in the Positive Class are: ['county my' 'county our' 'could one' 'could use' 'could really use'\n",
            " 'could used' 'could play' 'could provide' 'countries'\n",
            " 'countries around world' 'countries around' 'could take' 'could read'\n",
            " 'corner room' 'college future' 'countless' 'country they' 'could year'\n",
            " 'could see' 'counseling']\n",
            "======================================================================================================================================================\n",
            "The Top 20 Features in the Negative Class are: ['county my' 'county our' 'could one' 'could use' 'could really use'\n",
            " 'could used' 'could play' 'could provide' 'countries'\n",
            " 'countries around world' 'countries around' 'could take' 'could read'\n",
            " 'corner room' 'countless' 'college future' 'could year' 'country they'\n",
            " 'could see' 'could not wait']\n"
          ],
          "name": "stdout"
        }
      ]
    },
    {
      "cell_type": "markdown",
      "metadata": {
        "id": "lS9hIHdib3dp"
      },
      "source": [
        "\n",
        "<h1>3. Summary</h1>\n",
        "\n",
        "<br> as mentioned in the step 5 of instructions"
      ]
    },
    {
      "cell_type": "code",
      "metadata": {
        "colab": {
          "base_uri": "https://localhost:8080/"
        },
        "id": "vGS46RDg8V57",
        "outputId": "cb93e765-1ed7-4811-9bb0-706eb8a50cf6"
      },
      "source": [
        "from prettytable import PrettyTable\n",
        "sumtable= PrettyTable(['Vectorizer','Model','Alpha (hyperparameter)','Train AUC','Test AUC'])\n",
        "\n",
        "sumtable.add_row(['Bag of Words', 'Multinomial NB', '1', '0.914','0.690'])\n",
        "sumtable.add_row(['TFIDF', 'Multinomial NB', '0.05', '0.818','0.675'])\n",
        "\n",
        "print(sumtable)"
      ],
      "execution_count": null,
      "outputs": [
        {
          "output_type": "stream",
          "text": [
            "+--------------+----------------+------------------------+-----------+----------+\n",
            "|  Vectorizer  |     Model      | Alpha (hyperparameter) | Train AUC | Test AUC |\n",
            "+--------------+----------------+------------------------+-----------+----------+\n",
            "| Bag of Words | Multinomial NB |           1            |   0.914   |  0.690   |\n",
            "|    TFIDF     | Multinomial NB |          0.05          |   0.818   |  0.675   |\n",
            "+--------------+----------------+------------------------+-----------+----------+\n"
          ],
          "name": "stdout"
        }
      ]
    },
    {
      "cell_type": "code",
      "metadata": {
        "id": "QjmGrc0T8Wj0"
      },
      "source": [
        ""
      ],
      "execution_count": null,
      "outputs": []
    }
  ]
}